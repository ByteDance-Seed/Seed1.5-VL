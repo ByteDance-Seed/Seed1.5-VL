{
 "cells": [
  {
   "cell_type": "markdown",
   "id": "07358f2a",
   "metadata": {},
   "source": [
    "## LongCoT Cookbook with Seed1.5-VL\n",
    "\n",
    "**Seed1.5-VL** is capable of generating both swift, succinct replies and in-depth responses featuring long Chain-of-Thought (LongCoT) reasoning. Users can switch the model's operational mode to suit their specific needs by configuring a single parameter. \n",
    "\n",
    "| Field Name | Field Type | Description | Default Value |\n",
    "| ---- | ---- | ---- | ---- |\n",
    "| thinking | Object | Configuration of the thinking mode |  |\n",
    "| &emsp;└─ type | String | Supports two parameters: enabled, disabled.<br><br>**•** Use 'enabled' to turn on thinking mode and 'disabled' to turn off. An error will be reported if other strings are passed.| enabled<br><br>The thinking mode is enabled by default. |"
   ]
  },
  {
   "cell_type": "code",
   "execution_count": null,
   "id": "470519d6",
   "metadata": {},
   "outputs": [],
   "source": [
    "# Copyright (c) 2025 Bytedance Ltd. and/or its affiliates\n",
    "# SPDX-License-Identifier: Apache-2.0\n",
    "import os\n",
    "import base64\n",
    "import requests\n",
    "from openai import OpenAI"
   ]
  },
  {
   "cell_type": "markdown",
   "id": "38853162-6da7-4448-abd0-34d3df68c624",
   "metadata": {},
   "source": [
    "### 0. Obtain the API Key\n",
    "register and setup a service: https://www.volcengine.com/product/doubao"
   ]
  },
  {
   "cell_type": "markdown",
   "id": "32fa21ad",
   "metadata": {},
   "source": [
    "#### http post method"
   ]
  },
  {
   "cell_type": "code",
   "execution_count": null,
   "id": "152c4b4c",
   "metadata": {},
   "outputs": [],
   "source": [
    "# Please set the API key here\n",
    "api_key = \"your api key\"\n",
    "api_url = \"https://ark.cn-beijing.volces.com/api/v3/chat/completions\"\n",
    "model = \"doubao-1-5-thinking-vision-pro-250428\""
   ]
  },
  {
   "cell_type": "code",
   "execution_count": null,
   "id": "f10f4cf4",
   "metadata": {},
   "outputs": [],
   "source": [
    "\n",
    "# encode image into base64 encoding\n",
    "def encode_image(image_path):\n",
    "    with open(image_path, \"rb\") as image_file:\n",
    "        image = base64.b64encode(image_file.read()).decode('utf-8')\n",
    "    return image\n",
    "def inference_image(text_content, image_path, enable_thinking_mode='enabled'):\n",
    "    headers = {\n",
    "        'Authorization': f'Bearer {api_key}',\n",
    "        'Content-Type': 'application/json'\n",
    "    }\n",
    "    base64_image = encode_image(image_path)\n",
    "    image_format = image_path.split('.')[-1]\n",
    "    assert image_format in ['jpg', 'jpeg', 'png', 'webp']\n",
    "    data = {\n",
    "        \"model\": model,\n",
    "        \"messages\": [\n",
    "            {\n",
    "                \"role\": \"user\",\n",
    "                \"content\": [\n",
    "                    {\n",
    "                        \"type\": \"text\",\n",
    "                        \"text\": text_content\n",
    "                    },\n",
    "                    {\n",
    "                        \"type\": \"image_url\",\n",
    "                        \"image_url\": {\n",
    "                            \"url\": f\"data:image/{image_format};base64,{base64_image}\"\n",
    "                        }\n",
    "                    }\n",
    "                ]\n",
    "            }\n",
    "        ],\n",
    "        \"thinking\": {\"type\": enable_thinking_mode}\n",
    "    }\n",
    "    \n",
    "    response = requests.post(api_url, headers=headers, json=data)\n",
    "    \n",
    "    if response.status_code == 200:\n",
    "        return response.json()[\"choices\"][0]\n",
    "    else:\n",
    "        return {\n",
    "            \"error\": f\"Request failed with status code {response.status_code}\",\n",
    "            \"details\": response.text\n",
    "        }\n"
   ]
  },
  {
   "cell_type": "markdown",
   "id": "231c0584",
   "metadata": {},
   "source": [
    "##### 1. LongCoT Mode\n",
    "In the LongCoT mode, the model will think before answering, enabling it to handle more complex and difficult tasks.\n",
    "LongCoT mode is enabled by default for the **Seed1.5-VL** APIs."
   ]
  },
  {
   "cell_type": "code",
   "execution_count": null,
   "id": "b81f4473",
   "metadata": {},
   "outputs": [],
   "source": [
    "# example\n",
    "image_path = \"samples/001.png\"\n",
    "text_prompts = \"can you solve this Rebus puzzle?\"\n",
    "\n",
    "result = inference_image(text_prompts, image_path)\n",
    "print(\"Seed1.5-VL:\", result[\"message\"][\"content\"])\n"
   ]
  },
  {
   "cell_type": "markdown",
   "id": "144581b4",
   "metadata": {},
   "source": [
    "##### 2. Non-LongCoT Mode\n",
    "In the Non-LongCoT mode, the model will present more swift, succinct replies."
   ]
  },
  {
   "cell_type": "code",
   "execution_count": null,
   "id": "71f7d14d",
   "metadata": {},
   "outputs": [],
   "source": [
    "# example\n",
    "image_path = \"samples/001.png\"\n",
    "text_prompts = \"can you solve this Rebus puzzle?\"\n",
    "\n",
    "result = inference_image(text_prompts, image_path, enable_thinking_mode=\"disabled\")\n",
    "print(\"Seed1.5-VL:\", result[\"message\"][\"content\"])\n"
   ]
  },
  {
   "cell_type": "markdown",
   "id": "347adac0",
   "metadata": {},
   "source": [
    "#### openai sdk method (not supported yet)"
   ]
  },
  {
   "cell_type": "code",
   "execution_count": null,
   "id": "05aeab2c",
   "metadata": {},
   "outputs": [],
   "source": [
    "# Please set the API key here\n",
    "os.environ['OPENAI_API_KEY'] = 'your api key'\n",
    "seed_vl_version = \"doubao-1-5-thinking-vision-pro-250428\"\n",
    "client = OpenAI(\n",
    "    base_url=\"https://ark.cn-beijing.volces.com/api/v3\",\n",
    "    api_key=os.environ.get(\"OPENAI_API_KEY\"),\n",
    ")"
   ]
  },
  {
   "cell_type": "code",
   "execution_count": null,
   "id": "7e81cab2",
   "metadata": {},
   "outputs": [],
   "source": [
    "# encode image into base64 encoding\n",
    "def encode_image(image_path):\n",
    "    with open(image_path, \"rb\") as image_file:\n",
    "        image = base64.b64encode(image_file.read()).decode('utf-8')\n",
    "    return image"
   ]
  },
  {
   "cell_type": "code",
   "execution_count": null,
   "id": "06bd51cb",
   "metadata": {},
   "outputs": [],
   "source": [
    "def inference_image(prompt, image_path, enable_thinking_mode='enabled'):\n",
    "    base64_image = encode_image(image_path)\n",
    "    image_format = image_path.split('.')[-1]\n",
    "    assert image_format in ['jpg', 'jpeg', 'png', 'webp']\n",
    "    \n",
    "    response = client.chat.completions.create(\n",
    "    model=seed_vl_version,\n",
    "    messages=[\n",
    "        {\n",
    "            \"role\": \"user\",\n",
    "            \"content\": [\n",
    "                {\n",
    "                    \"type\": \"image_url\",\n",
    "                    \"image_url\": {\n",
    "                        \"url\": f\"data:image/{image_format};base64,{base64_image}\"\n",
    "                    },\n",
    "                },\n",
    "                {\"type\": \"text\", \"text\": prompt},\n",
    "            ],\n",
    "        }\n",
    "    ],\n",
    "    thinking={\n",
    "        \"type\": enable_thinking_mode\n",
    "    }\n",
    "    )\n",
    "    return response.choices[0]"
   ]
  },
  {
   "cell_type": "markdown",
   "id": "8ba2d3f3-78cd-4c18-93c6-9d743b797b2c",
   "metadata": {},
   "source": [
    "##### 1. LongCoT Mode\n",
    "In the LongCoT mode, the model will think before answering, enabling it to handle more complex and difficult tasks.\n",
    "LongCoT mode is enabled by default for the **Seed1.5-VL** APIs."
   ]
  },
  {
   "cell_type": "code",
   "execution_count": null,
   "id": "ffa3db64-8841-4000-9a8e-13466807f798",
   "metadata": {},
   "outputs": [],
   "source": [
    "image_path = \"samples/001.png\"\n",
    "text_prompts = \"can you solve this Rebus puzzle?\""
   ]
  },
  {
   "cell_type": "code",
   "execution_count": null,
   "id": "08cc7987",
   "metadata": {},
   "outputs": [],
   "source": [
    "result = inference_image(text_prompts, image_path) # enable_thinking_mode is set to 'enabled' by default\n",
    "print(\"Seed1.5-VL:\", result.message.content)"
   ]
  },
  {
   "cell_type": "markdown",
   "metadata": {},
   "source": [
    "##### 2. Non-LongCoT Mode\n",
    "In the Non-LongCoT mode, the model will present more swift, succinct replies."
   ]
  },
  {
   "cell_type": "code",
   "execution_count": null,
   "metadata": {},
   "outputs": [],
   "source": [
    "image_path = \"samples/001.jpeg\"\n",
    "text_prompts = \"can you solve this Rebus puzzle?\""
   ]
  },
  {
   "cell_type": "code",
   "execution_count": null,
   "metadata": {},
   "outputs": [],
   "source": [
    "result = inference_image(text_prompts, image_path, enable_thinking_mode='disabled')\n",
    "print(\"Seed1.5-VL:\", result.message.content)"
   ]
  }
 ],
 "metadata": {
  "kernelspec": {
   "display_name": "Python 3",
   "language": "python",
   "name": "python3"
  },
  "language_info": {
   "codemirror_mode": {
    "name": "ipython",
    "version": 3
   },
   "file_extension": ".py",
   "mimetype": "text/x-python",
   "name": "python",
   "nbconvert_exporter": "python",
   "pygments_lexer": "ipython3",
   "version": "3.11.2"
  }
 },
 "nbformat": 4,
 "nbformat_minor": 5
}
